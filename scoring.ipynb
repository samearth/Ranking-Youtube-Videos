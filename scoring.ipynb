{
 "cells": [
  {
   "cell_type": "code",
   "execution_count": 1,
   "metadata": {},
   "outputs": [],
   "source": [
    "import pandas as pd\n",
    "import numpy as np\n",
    "pd.set_option('display.max_colwidth', 200)\n",
    "\n",
    "#Visualization packages\n",
    "import matplotlib.pyplot as plt\n",
    "import seaborn as sns\n",
    "\n",
    "#NLP packages\n",
    "from textblob import TextBlob\n",
    "\n",
    "import warnings\n",
    "warnings.filterwarnings(\"ignore\")"
   ]
  },
  {
   "cell_type": "code",
   "execution_count": 57,
   "metadata": {},
   "outputs": [],
   "source": [
    "video_comm = pd.read_csv('PRAYING | The Megamix ft. Adele, TØP, Nicki Minaj, P!ATD, Lordecomm.csv')"
   ]
  },
  {
   "cell_type": "code",
   "execution_count": 58,
   "metadata": {},
   "outputs": [],
   "source": [
    "video_comm = video_comm.drop(columns = ['Unnamed: 0', 'Unnamed: 0.1'])"
   ]
  },
  {
   "cell_type": "code",
   "execution_count": 59,
   "metadata": {},
   "outputs": [
    {
     "data": {
      "text/html": [
       "<div>\n",
       "<style scoped>\n",
       "    .dataframe tbody tr th:only-of-type {\n",
       "        vertical-align: middle;\n",
       "    }\n",
       "\n",
       "    .dataframe tbody tr th {\n",
       "        vertical-align: top;\n",
       "    }\n",
       "\n",
       "    .dataframe thead th {\n",
       "        text-align: right;\n",
       "    }\n",
       "</style>\n",
       "<table border=\"1\" class=\"dataframe\">\n",
       "  <thead>\n",
       "    <tr style=\"text-align: right;\">\n",
       "      <th></th>\n",
       "      <th>comment</th>\n",
       "      <th>likes</th>\n",
       "    </tr>\n",
       "  </thead>\n",
       "  <tbody>\n",
       "    <tr>\n",
       "      <th>0</th>\n",
       "      <td>I love Kesha's new song so much, and I couldn't hold back in making a megamix! I hope you like it!! Subscribe for more megamixes like this, and turn on notifications so you know every time I post!...</td>\n",
       "      <td>232</td>\n",
       "    </tr>\n",
       "    <tr>\n",
       "      <th>1</th>\n",
       "      <td>I wish u added in Kesha’s high note on that build up</td>\n",
       "      <td>56</td>\n",
       "    </tr>\n",
       "    <tr>\n",
       "      <th>2</th>\n",
       "      <td>one of your bests!</td>\n",
       "      <td>93</td>\n",
       "    </tr>\n",
       "    <tr>\n",
       "      <th>3</th>\n",
       "      <td>who else thinks this mashup is epic🔥</td>\n",
       "      <td>53</td>\n",
       "    </tr>\n",
       "    <tr>\n",
       "      <th>4</th>\n",
       "      <td>When This is gospel started i had a stroke... THIS IS MARVELOUS!!!</td>\n",
       "      <td>14</td>\n",
       "    </tr>\n",
       "    <tr>\n",
       "      <th>...</th>\n",
       "      <td>...</td>\n",
       "      <td>...</td>\n",
       "    </tr>\n",
       "    <tr>\n",
       "      <th>153</th>\n",
       "      <td>this is your bests work, not kidding.</td>\n",
       "      <td>1</td>\n",
       "    </tr>\n",
       "    <tr>\n",
       "      <th>154</th>\n",
       "      <td>sorry not sorry</td>\n",
       "      <td>1</td>\n",
       "    </tr>\n",
       "    <tr>\n",
       "      <th>155</th>\n",
       "      <td>sorry not sorry and fetish</td>\n",
       "      <td>1</td>\n",
       "    </tr>\n",
       "    <tr>\n",
       "      <th>156</th>\n",
       "      <td>Hi everyone I'm first</td>\n",
       "      <td>1</td>\n",
       "    </tr>\n",
       "    <tr>\n",
       "      <th>157</th>\n",
       "      <td>I don't like Stiches here but mashup slays!</td>\n",
       "      <td>5</td>\n",
       "    </tr>\n",
       "  </tbody>\n",
       "</table>\n",
       "<p>158 rows × 2 columns</p>\n",
       "</div>"
      ],
      "text/plain": [
       "                                                                                                                                                                                                     comment  \\\n",
       "0    I love Kesha's new song so much, and I couldn't hold back in making a megamix! I hope you like it!! Subscribe for more megamixes like this, and turn on notifications so you know every time I post!...   \n",
       "1                                                                                                                                                       I wish u added in Kesha’s high note on that build up   \n",
       "2                                                                                                                                                                                         one of your bests!   \n",
       "3                                                                                                                                                                       who else thinks this mashup is epic🔥   \n",
       "4                                                                                                                                         When This is gospel started i had a stroke... THIS IS MARVELOUS!!!   \n",
       "..                                                                                                                                                                                                       ...   \n",
       "153                                                                                                                                                                    this is your bests work, not kidding.   \n",
       "154                                                                                                                                                                                          sorry not sorry   \n",
       "155                                                                                                                                                                               sorry not sorry and fetish   \n",
       "156                                                                                                                                                                                    Hi everyone I'm first   \n",
       "157                                                                                                                                                              I don't like Stiches here but mashup slays!   \n",
       "\n",
       "     likes  \n",
       "0      232  \n",
       "1       56  \n",
       "2       93  \n",
       "3       53  \n",
       "4       14  \n",
       "..     ...  \n",
       "153      1  \n",
       "154      1  \n",
       "155      1  \n",
       "156      1  \n",
       "157      5  \n",
       "\n",
       "[158 rows x 2 columns]"
      ]
     },
     "execution_count": 59,
     "metadata": {},
     "output_type": "execute_result"
    }
   ],
   "source": [
    "video_comm.rename(columns = {'0':'comment', '1': 'likes'}, inplace = True) \n",
    "video_comm['likes'] = video_comm['likes'] + 1\n",
    "video_comm"
   ]
  },
  {
   "cell_type": "code",
   "execution_count": 55,
   "metadata": {},
   "outputs": [],
   "source": [
    "def score(link):\n",
    "    score = 0\n",
    "    video_comm = pd.read_csv(link)\n",
    "    video_comm = video_comm.drop(columns = ['Unnamed: 0', 'Unnamed: 0.1'])\n",
    "    video_comm.rename(columns = {'0':'comment', '1': 'likes'}, inplace = True) \n",
    "    video_comm['likes'] = video_comm['likes'] + 1\n",
    "    for index, comm in video_comm.iterrows():\n",
    "        pol = TextBlob(comm['comment']).sentiment\n",
    "        score_comm = pol.polarity *comm['likes']\n",
    "        score+=score_comm\n",
    "    return score"
   ]
  },
  {
   "cell_type": "code",
   "execution_count": 60,
   "metadata": {},
   "outputs": [
    {
     "name": "stdout",
     "output_type": "stream",
     "text": [
      "345.68448728354986\n"
     ]
    }
   ],
   "source": [
    "score = 0\n",
    "for index, comm in video_comm.iterrows():\n",
    "    pol = TextBlob(comm['comment']).sentiment\n",
    "    score_comm = pol.polarity *comm['likes']\n",
    "    score+=score_comm\n",
    "print(score)"
   ]
  },
  {
   "cell_type": "code",
   "execution_count": 56,
   "metadata": {},
   "outputs": [
    {
     "data": {
      "text/plain": [
       "345.68448728354986"
      ]
     },
     "execution_count": 56,
     "metadata": {},
     "output_type": "execute_result"
    }
   ],
   "source": [
    "score('PRAYING | The Megamix ft. Adele, TØP, Nicki Minaj, P!ATD, Lordecomm.csv')"
   ]
  },
  {
   "cell_type": "code",
   "execution_count": null,
   "metadata": {},
   "outputs": [],
   "source": []
  }
 ],
 "metadata": {
  "kernelspec": {
   "display_name": "Python 3",
   "language": "python",
   "name": "python3"
  },
  "language_info": {
   "codemirror_mode": {
    "name": "ipython",
    "version": 3
   },
   "file_extension": ".py",
   "mimetype": "text/x-python",
   "name": "python",
   "nbconvert_exporter": "python",
   "pygments_lexer": "ipython3",
   "version": "3.7.3"
  }
 },
 "nbformat": 4,
 "nbformat_minor": 4
}
